{
 "cells": [
  {
   "cell_type": "code",
   "execution_count": 3,
   "id": "a6bdc4f0",
   "metadata": {},
   "outputs": [
    {
     "name": "stdout",
     "output_type": "stream",
     "text": [
      "Requirement already satisfied: numpy in c:\\users\\vaish\\appdata\\local\\programs\\python\\python311\\lib\\site-packages (1.24.1)\n"
     ]
    }
   ],
   "source": [
    "!pip install numpy\n"
   ]
  },
  {
   "cell_type": "code",
   "execution_count": 4,
   "id": "0ed17f64",
   "metadata": {},
   "outputs": [
    {
     "name": "stdout",
     "output_type": "stream",
     "text": [
      "2\n",
      "4\n",
      "int32\n",
      "6\n",
      "(2, 3)\n",
      "[1.   1.25 1.5  1.75 2.  ]\n",
      "[[1 2]\n",
      " [3 3]\n",
      " [4 5]]\n",
      "3\n",
      "1\n",
      "6\n"
     ]
    }
   ],
   "source": [
    "import numpy as np\n",
    "\n",
    "a= np.array([(1,2,3) , (3,4,5)])\n",
    "print(a.ndim)\n",
    "\n",
    "a= np.array([(1,2,3)])\n",
    "print(a.itemsize)\n",
    "\n",
    "a= np.array([(1,2,3) , (3,4,5)])\n",
    "print(a.dtype)\n",
    "\n",
    "a= np.array([(1,2,3), (3,4,5)])\n",
    "print(a.size)\n",
    "\n",
    "a= np.array([(1,2,3), (3,4,5)])\n",
    "print(a.shape)\n",
    "\n",
    "a = np.linspace(1, 2, 5);\n",
    "print(a)\n",
    "\n",
    "a= np.array([(1,2,3), (3,4,5)])\n",
    "print(a.reshape(3,2))\n",
    "\n",
    "a= np.array([1,2,3])\n",
    "\n",
    "print(a.max())\n",
    "print(a.min())\n",
    "print(a.sum())"
   ]
  },
  {
   "cell_type": "code",
   "execution_count": null,
   "id": "a226755a",
   "metadata": {},
   "outputs": [],
   "source": []
  }
 ],
 "metadata": {
  "kernelspec": {
   "display_name": "Python 3 (ipykernel)",
   "language": "python",
   "name": "python3"
  },
  "language_info": {
   "codemirror_mode": {
    "name": "ipython",
    "version": 3
   },
   "file_extension": ".py",
   "mimetype": "text/x-python",
   "name": "python",
   "nbconvert_exporter": "python",
   "pygments_lexer": "ipython3",
   "version": "3.11.1"
  }
 },
 "nbformat": 4,
 "nbformat_minor": 5
}
