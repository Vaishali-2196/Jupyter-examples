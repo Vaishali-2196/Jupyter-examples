{
 "cells": [
  {
   "cell_type": "code",
   "execution_count": 1,
   "id": "a0af9c13",
   "metadata": {},
   "outputs": [
    {
     "name": "stdout",
     "output_type": "stream",
     "text": [
      "Requirement already satisfied: pandas in c:\\users\\vaish\\appdata\\local\\programs\\python\\python311\\lib\\site-packages (1.5.2)\n",
      "Requirement already satisfied: python-dateutil>=2.8.1 in c:\\users\\vaish\\appdata\\local\\programs\\python\\python311\\lib\\site-packages (from pandas) (2.8.2)\n",
      "Requirement already satisfied: pytz>=2020.1 in c:\\users\\vaish\\appdata\\local\\programs\\python\\python311\\lib\\site-packages (from pandas) (2022.6)\n",
      "Requirement already satisfied: numpy>=1.21.0 in c:\\users\\vaish\\appdata\\local\\programs\\python\\python311\\lib\\site-packages (from pandas) (1.24.1)\n",
      "Requirement already satisfied: six>=1.5 in c:\\users\\vaish\\appdata\\local\\programs\\python\\python311\\lib\\site-packages (from python-dateutil>=2.8.1->pandas) (1.16.0)\n"
     ]
    }
   ],
   "source": [
    "!pip install pandas"
   ]
  },
  {
   "cell_type": "code",
   "execution_count": 2,
   "id": "c4359afe",
   "metadata": {},
   "outputs": [
    {
     "name": "stdout",
     "output_type": "stream",
     "text": [
      "0    h\n",
      "1    j\n",
      "2    k\n",
      "3    l\n",
      "4    m\n",
      "dtype: object\n",
      "Mano\n",
      "1    Barathi\n",
      "2       Mano\n",
      "dtype: object\n"
     ]
    }
   ],
   "source": [
    "import pandas as pd\n",
    "import numpy as np\n",
    "\n",
    "a= np.array(['h','j','k','l','m','n','o'])\n",
    "s= pd.Series(a[:5])\n",
    "print(s)\n",
    "\n",
    "\n",
    "\n",
    "data = {'Name':['Jai', 'Barathi', 'Mano', 'Kamal'],\n",
    "        'Age':[20, 24, 30, 21],\n",
    "        'Address':['Tamilnadu', 'Delhi', 'Karanataka', 'Kerala'],\n",
    "        'Qualification':['Msc', 'Phd', 'MBA', 'M.Tech']}\n",
    "\n",
    "\n",
    "ser= pd.Series(data['Name'])\n",
    "print(ser[2])\n",
    "\n",
    "print(ser.loc[1:2])"
   ]
  },
  {
   "cell_type": "code",
   "execution_count": null,
   "id": "87104183",
   "metadata": {},
   "outputs": [],
   "source": []
  }
 ],
 "metadata": {
  "kernelspec": {
   "display_name": "Python 3 (ipykernel)",
   "language": "python",
   "name": "python3"
  },
  "language_info": {
   "codemirror_mode": {
    "name": "ipython",
    "version": 3
   },
   "file_extension": ".py",
   "mimetype": "text/x-python",
   "name": "python",
   "nbconvert_exporter": "python",
   "pygments_lexer": "ipython3",
   "version": "3.11.1"
  }
 },
 "nbformat": 4,
 "nbformat_minor": 5
}
